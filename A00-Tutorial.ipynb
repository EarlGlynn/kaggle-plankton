{
 "metadata": {
  "name": "",
  "signature": "sha256:f0441234f4a17816b71b873b6e3df17b7e40623fe22d72a321e39330a5dd7b43"
 },
 "nbformat": 3,
 "nbformat_minor": 0,
 "worksheets": []
}