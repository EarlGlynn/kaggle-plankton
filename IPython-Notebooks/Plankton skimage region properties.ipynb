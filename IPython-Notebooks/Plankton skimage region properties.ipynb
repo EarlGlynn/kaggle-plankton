{
 "metadata": {
  "name": "",
  "signature": "sha256:03c620854190bcbb2b58052a648069336d9d59038e0de0ac7328ecc56f66759e"
 },
 "nbformat": 3,
 "nbformat_minor": 0,
 "worksheets": [
  {
   "cells": [
    {
     "cell_type": "heading",
     "level": 1,
     "metadata": {},
     "source": [
      "Plankton image properties for machine learning"
     ]
    },
    {
     "cell_type": "markdown",
     "metadata": {},
     "source": [
      "This Notebook describes creation of a file of [skimage regionprops](http://scikit-image.org/docs/dev/api/skimage.measure.html#regionprops) for Kaggle's [National Data Science Bowl](http://www.kaggle.com/c/datasciencebowl) \"Predict ocean health, one plankton at a time\" competition.  The Python code below creates separate files of features for the training and test sets to be used for numerical experiments in R.\n",
      "\n",
      "I previously [posted in the online Kaggle forum](http://www.kaggle.com/c/datasciencebowl/forums/t/12326/duplicate-images) about the many duplicates, mostly in the test set:\n",
      "\n",
      "* There are 30,336 training set images in 121 defined classes stored in separate folders -- two of these images are identical. \n",
      "* There are 130,400 test set images of which only 93,502 are unique.\n",
      "\n",
      "For now I made no attempt to remove the duplicate images.\n",
      "\n",
      "Many ideas in this Notebook were adapted from the online tutorials by [Aaron Sander](http://www.kaggle.com/c/datasciencebowl/details/tutorial) and [Ehud Ben-Reuven](http://nbviewer.ipython.org/github/udibr/datasciencebowl/blob/master/141215-tutorial-submission.ipynb)."
     ]
    },
    {
     "cell_type": "code",
     "collapsed": false,
     "input": [
      "import numpy  as np\n",
      "import os\n",
      "import pandas\n",
      "\n",
      "from   matplotlib import pyplot    as plt\n",
      "from   pylab      import cm\n",
      "from   skimage    import measure\n",
      "from   skimage    import morphology\n",
      "from   skimage.io import imread\n",
      "\n",
      "# make graphics appear inline\n",
      "%matplotlib inline"
     ],
     "language": "python",
     "metadata": {},
     "outputs": [],
     "prompt_number": 1
    },
    {
     "cell_type": "code",
     "collapsed": false,
     "input": [
      "import warnings\n",
      "warnings.filterwarnings(\"ignore\")"
     ],
     "language": "python",
     "metadata": {},
     "outputs": [],
     "prompt_number": 2
    },
    {
     "cell_type": "code",
     "collapsed": false,
     "input": [
      "import datetime\n",
      "start_time = datetime.datetime.now()\n",
      "print start_time"
     ],
     "language": "python",
     "metadata": {},
     "outputs": [
      {
       "output_type": "stream",
       "stream": "stdout",
       "text": [
        "2015-02-01 02:11:54.580000\n"
       ]
      }
     ],
     "prompt_number": 3
    },
    {
     "cell_type": "code",
     "collapsed": false,
     "input": [
      "cd C:\\Kaggle\\2015\\Plankton  "
     ],
     "language": "python",
     "metadata": {},
     "outputs": [
      {
       "output_type": "stream",
       "stream": "stdout",
       "text": [
        "C:\\Kaggle\\2015\\Plankton\n"
       ]
      }
     ],
     "prompt_number": 4
    },
    {
     "cell_type": "markdown",
     "metadata": {},
     "source": [
      "**train** and **test** directories of plankton images should be under this directory."
     ]
    },
    {
     "cell_type": "heading",
     "level": 2,
     "metadata": {},
     "source": [
      "Python functions"
     ]
    },
    {
     "cell_type": "code",
     "collapsed": false,
     "input": [
      "# Read image, analyze, find region properties\n",
      "def getImageRegionList(filename):   \n",
      "    # Read image file\n",
      "    image = imread(filename, as_grey=True)    \n",
      "    \n",
      "    # Thresholding\n",
      "    image_threshold = np.where(image > np.mean(image),0.,1.0)   \n",
      "    \n",
      "    # Dilation\n",
      "    size_neighborhood = 4\n",
      "    image_dilated = morphology.dilation(image_threshold, \\\n",
      "                                        np.ones((size_neighborhood,size_neighborhood)))   \n",
      "    \n",
      "    # Label regions\n",
      "    label_list = measure.label(image_dilated)    \n",
      "    \n",
      "    # Create label list\n",
      "    label_list = (image_threshold * label_list).astype(int)\n",
      "    \n",
      "    # Region properties\n",
      "    region_list = measure.regionprops(label_list)\n",
      "    \n",
      "    return region_list\n",
      "\n",
      "# Find the region with the largest area\n",
      "def getMaxArea(filename):\n",
      "    region_list = getImageRegionList(filename)\n",
      "    \n",
      "    maxArea = None\n",
      "    for property in region_list:       \n",
      "        if maxArea is None:\n",
      "            maxArea = property\n",
      "        else:\n",
      "            if property.area > maxArea.area:\n",
      "                maxArea = property\n",
      "    return maxArea\n",
      "\n",
      "def getMaxAreaDict(filename):\n",
      "    property = getMaxArea(filename)\n",
      "    \n",
      "    if property is None:\n",
      "      maxAreaDict = {'area'               :  0}\n",
      "    else:\n",
      "      maxAreaDict = {'label'              :  property.label,\n",
      "                     \n",
      "                     'centroid_row'       :  property.centroid[0],          # 0D:  location\n",
      "                     'centroid_col'       :  property.centroid[1],                     \n",
      "                     \n",
      "                     'diameter_equivalent':  property.equivalent_diameter,  # 1D\n",
      "                     'length_minor_axis'  :  property.minor_axis_length, \n",
      "                     'length_major_axis'  :  property.major_axis_length,\n",
      "                     'ratio_eccentricity' :  property.eccentricity,\n",
      "                     'perimeter'          :  property.perimeter,\n",
      "                     'orientation'        :  property.orientation,          # ranges from -pi/2 to pi/2 \n",
      "                     \n",
      "                     'area'               :  property.area,                 # 2D\n",
      "                     'area_convex'        :  property.convex_area,\n",
      "                     'area_filled'        :  property.filled_area,\n",
      "                     'box_min_row'        :  property.bbox[0],\n",
      "                     'box_max_row'        :  property.bbox[2],\n",
      "                     'box_min_col'        :  property.bbox[1],\n",
      "                     'box_max_col'        :  property.bbox[3],\n",
      "                     'ratio_extent'       :  property.extent,\n",
      "                     'ratio_solidity'     :  property.solidity,                  \n",
      "                     \n",
      "                     'inertia_tensor_eigenvalue1':  property.inertia_tensor_eigvals[0], \n",
      "                     'inertia_tensor_eigenvalue2':  property.inertia_tensor_eigvals[1],\n",
      "                     \n",
      "                     'moments_hu1'        :  property.moments_hu[0],        # translation, scale and rotation invariant\n",
      "                     'moments_hu2'        :  property.moments_hu[1],\n",
      "                     'moments_hu3'        :  property.moments_hu[2],\n",
      "                     'moments_hu4'        :  property.moments_hu[3],\n",
      "                     'moments_hu5'        :  property.moments_hu[4],\n",
      "                     'moments_hu6'        :  property.moments_hu[5],\n",
      "                     'moments_hu7'        :  property.moments_hu[6],\n",
      "                     \n",
      "                     'euler_number'       :  property.euler_number,         # miscellaneous\n",
      "                     \n",
      "                     'countCoords'        :  len(property.coords)}          # eventually grab these coordinates?\n",
      "\n",
      "    return maxAreaDict"
     ],
     "language": "python",
     "metadata": {},
     "outputs": [],
     "prompt_number": 5
    },
    {
     "cell_type": "heading",
     "level": 2,
     "metadata": {},
     "source": [
      "Training Images"
     ]
    },
    {
     "cell_type": "code",
     "collapsed": false,
     "input": [
      "directory_names = os.listdir(\"train\")\n",
      "# Loop through all the training folders\n",
      "\n",
      "# imagePropertiesList will contain a list of dictionaries with each\n",
      "# dictionary the skiimage region properties for one plankton image.\n",
      "imagePropertiesList = []\n",
      "\n",
      "for train_index in range(len(directory_names)):  \n",
      "    folder = directory_names[train_index] \n",
      "    basedir = os.path.join(\"train\", folder)   \n",
      "    filenames = os.listdir(basedir)\n",
      "    \n",
      "    print train_index, folder, len(filenames)\n",
      "    for index in range(len(filenames)):\n",
      "        filename = filenames[index]\n",
      "        fullname = os.path.join(basedir, filename)\n",
      "        \n",
      "        imagePropertyDict = getMaxAreaDict(fullname)\n",
      "    \n",
      "        # Add filename and train_index for training set.\n",
      "        # filenames are unique across all training and test sets\n",
      "        imagePropertyDict['filename'] = filename \n",
      "        imagePropertyDict['train'] = train_index\n",
      "    \n",
      "        imagePropertiesList.append(imagePropertyDict)\n",
      "        \n",
      "# Convert list of dictionaries to pandas dataframe.\n",
      "df = pandas.DataFrame(imagePropertiesList)\n",
      "print df.shape\n",
      "\n",
      "# Save to .csv file\n",
      "df.to_csv('train-properties.csv', index=False)  "
     ],
     "language": "python",
     "metadata": {},
     "outputs": [
      {
       "output_type": "stream",
       "stream": "stdout",
       "text": [
        "0 acantharia_protist 889\n",
        "1"
       ]
      },
      {
       "output_type": "stream",
       "stream": "stdout",
       "text": [
        " acantharia_protist_big_center 13\n",
        "2"
       ]
      },
      {
       "output_type": "stream",
       "stream": "stdout",
       "text": [
        " acantharia_protist_halo 71\n",
        "3"
       ]
      },
      {
       "output_type": "stream",
       "stream": "stdout",
       "text": [
        " amphipods 49\n",
        "4"
       ]
      },
      {
       "output_type": "stream",
       "stream": "stdout",
       "text": [
        " appendicularian_fritillaridae 16\n",
        "5"
       ]
      },
      {
       "output_type": "stream",
       "stream": "stdout",
       "text": [
        " appendicularian_slight_curve 532\n",
        "6"
       ]
      },
      {
       "output_type": "stream",
       "stream": "stdout",
       "text": [
        " appendicularian_straight 242\n",
        "7"
       ]
      },
      {
       "output_type": "stream",
       "stream": "stdout",
       "text": [
        " appendicularian_s_shape 696\n",
        "8"
       ]
      },
      {
       "output_type": "stream",
       "stream": "stdout",
       "text": [
        " artifacts 393\n",
        "9"
       ]
      },
      {
       "output_type": "stream",
       "stream": "stdout",
       "text": [
        " artifacts_edge 170\n",
        "10"
       ]
      },
      {
       "output_type": "stream",
       "stream": "stdout",
       "text": [
        " chaetognath_non_sagitta 815\n",
        "11"
       ]
      },
      {
       "output_type": "stream",
       "stream": "stdout",
       "text": [
        " chaetognath_other 1934\n",
        "12"
       ]
      },
      {
       "output_type": "stream",
       "stream": "stdout",
       "text": [
        " chaetognath_sagitta 694\n",
        "13"
       ]
      },
      {
       "output_type": "stream",
       "stream": "stdout",
       "text": [
        " chordate_type1 77\n",
        "14"
       ]
      },
      {
       "output_type": "stream",
       "stream": "stdout",
       "text": [
        " copepod_calanoid 681\n",
        "15"
       ]
      },
      {
       "output_type": "stream",
       "stream": "stdout",
       "text": [
        " copepod_calanoid_eggs 173\n",
        "16"
       ]
      },
      {
       "output_type": "stream",
       "stream": "stdout",
       "text": [
        " copepod_calanoid_eucalanus 96\n",
        "17"
       ]
      },
      {
       "output_type": "stream",
       "stream": "stdout",
       "text": [
        " copepod_calanoid_flatheads 178\n",
        "18"
       ]
      },
      {
       "output_type": "stream",
       "stream": "stdout",
       "text": [
        " copepod_calanoid_frillyAntennae 63\n",
        "19"
       ]
      },
      {
       "output_type": "stream",
       "stream": "stdout",
       "text": [
        " copepod_calanoid_large 286\n",
        "20"
       ]
      },
      {
       "output_type": "stream",
       "stream": "stdout",
       "text": [
        " copepod_calanoid_large_side_antennatucked 106\n",
        "21"
       ]
      },
      {
       "output_type": "stream",
       "stream": "stdout",
       "text": [
        " copepod_calanoid_octomoms 49\n",
        "22"
       ]
      },
      {
       "output_type": "stream",
       "stream": "stdout",
       "text": [
        " copepod_calanoid_small_longantennae 87\n",
        "23"
       ]
      },
      {
       "output_type": "stream",
       "stream": "stdout",
       "text": [
        " copepod_cyclopoid_copilia 30\n",
        "24"
       ]
      },
      {
       "output_type": "stream",
       "stream": "stdout",
       "text": [
        " copepod_cyclopoid_oithona 899\n",
        "25"
       ]
      },
      {
       "output_type": "stream",
       "stream": "stdout",
       "text": [
        " copepod_cyclopoid_oithona_eggs 1189\n",
        "26"
       ]
      },
      {
       "output_type": "stream",
       "stream": "stdout",
       "text": [
        " copepod_other 24\n",
        "27"
       ]
      },
      {
       "output_type": "stream",
       "stream": "stdout",
       "text": [
        " crustacean_other 201\n",
        "28"
       ]
      },
      {
       "output_type": "stream",
       "stream": "stdout",
       "text": [
        " ctenophore_cestid 113\n",
        "29"
       ]
      },
      {
       "output_type": "stream",
       "stream": "stdout",
       "text": [
        " ctenophore_cydippid_no_tentacles 42\n",
        "30"
       ]
      },
      {
       "output_type": "stream",
       "stream": "stdout",
       "text": [
        " ctenophore_cydippid_tentacles 53\n",
        "31"
       ]
      },
      {
       "output_type": "stream",
       "stream": "stdout",
       "text": [
        " ctenophore_lobate 38\n",
        "32"
       ]
      },
      {
       "output_type": "stream",
       "stream": "stdout",
       "text": [
        " decapods 55\n",
        "33"
       ]
      },
      {
       "output_type": "stream",
       "stream": "stdout",
       "text": [
        " detritus_blob 363\n",
        "34"
       ]
      },
      {
       "output_type": "stream",
       "stream": "stdout",
       "text": [
        " detritus_filamentous 394\n",
        "35"
       ]
      },
      {
       "output_type": "stream",
       "stream": "stdout",
       "text": [
        " detritus_other 914\n",
        "36"
       ]
      },
      {
       "output_type": "stream",
       "stream": "stdout",
       "text": [
        " diatom_chain_string 519\n",
        "37"
       ]
      },
      {
       "output_type": "stream",
       "stream": "stdout",
       "text": [
        " diatom_chain_tube 500\n",
        "38"
       ]
      },
      {
       "output_type": "stream",
       "stream": "stdout",
       "text": [
        " echinoderm_larva_pluteus_brittlestar 36\n",
        "39"
       ]
      },
      {
       "output_type": "stream",
       "stream": "stdout",
       "text": [
        " echinoderm_larva_pluteus_early 92\n",
        "40"
       ]
      },
      {
       "output_type": "stream",
       "stream": "stdout",
       "text": [
        " echinoderm_larva_pluteus_typeC 80\n",
        "41"
       ]
      },
      {
       "output_type": "stream",
       "stream": "stdout",
       "text": [
        " echinoderm_larva_pluteus_urchin 88\n",
        "42"
       ]
      },
      {
       "output_type": "stream",
       "stream": "stdout",
       "text": [
        " echinoderm_larva_seastar_bipinnaria 385\n",
        "43"
       ]
      },
      {
       "output_type": "stream",
       "stream": "stdout",
       "text": [
        " echinoderm_larva_seastar_brachiolaria 536\n",
        "44"
       ]
      },
      {
       "output_type": "stream",
       "stream": "stdout",
       "text": [
        " echinoderm_seacucumber_auricularia_larva 96\n",
        "45"
       ]
      },
      {
       "output_type": "stream",
       "stream": "stdout",
       "text": [
        " echinopluteus 27\n",
        "46"
       ]
      },
      {
       "output_type": "stream",
       "stream": "stdout",
       "text": [
        " ephyra 14\n",
        "47"
       ]
      },
      {
       "output_type": "stream",
       "stream": "stdout",
       "text": [
        " euphausiids 136\n",
        "48"
       ]
      },
      {
       "output_type": "stream",
       "stream": "stdout",
       "text": [
        " euphausiids_young 38\n",
        "49"
       ]
      },
      {
       "output_type": "stream",
       "stream": "stdout",
       "text": [
        " fecal_pellet 511\n",
        "50"
       ]
      },
      {
       "output_type": "stream",
       "stream": "stdout",
       "text": [
        " fish_larvae_deep_body 10\n",
        "51"
       ]
      },
      {
       "output_type": "stream",
       "stream": "stdout",
       "text": [
        " fish_larvae_leptocephali 31\n",
        "52"
       ]
      },
      {
       "output_type": "stream",
       "stream": "stdout",
       "text": [
        " fish_larvae_medium_body 85\n",
        "53"
       ]
      },
      {
       "output_type": "stream",
       "stream": "stdout",
       "text": [
        " fish_larvae_myctophids 114\n",
        "54"
       ]
      },
      {
       "output_type": "stream",
       "stream": "stdout",
       "text": [
        " fish_larvae_thin_body 64\n",
        "55"
       ]
      },
      {
       "output_type": "stream",
       "stream": "stdout",
       "text": [
        " fish_larvae_very_thin_body 16\n",
        "56"
       ]
      },
      {
       "output_type": "stream",
       "stream": "stdout",
       "text": [
        " heteropod 10\n",
        "57"
       ]
      },
      {
       "output_type": "stream",
       "stream": "stdout",
       "text": [
        " hydromedusae_aglaura 127\n",
        "58"
       ]
      },
      {
       "output_type": "stream",
       "stream": "stdout",
       "text": [
        " hydromedusae_bell_and_tentacles 75\n",
        "59"
       ]
      },
      {
       "output_type": "stream",
       "stream": "stdout",
       "text": [
        " hydromedusae_h15 35\n",
        "60"
       ]
      },
      {
       "output_type": "stream",
       "stream": "stdout",
       "text": [
        " hydromedusae_haliscera 229\n",
        "61"
       ]
      },
      {
       "output_type": "stream",
       "stream": "stdout",
       "text": [
        " hydromedusae_haliscera_small_sideview 9\n",
        "62"
       ]
      },
      {
       "output_type": "stream",
       "stream": "stdout",
       "text": [
        " hydromedusae_liriope 19\n",
        "63"
       ]
      },
      {
       "output_type": "stream",
       "stream": "stdout",
       "text": [
        " hydromedusae_narcomedusae 132\n",
        "64"
       ]
      },
      {
       "output_type": "stream",
       "stream": "stdout",
       "text": [
        " hydromedusae_narco_dark 23\n",
        "65"
       ]
      },
      {
       "output_type": "stream",
       "stream": "stdout",
       "text": [
        " hydromedusae_narco_young 336\n",
        "66"
       ]
      },
      {
       "output_type": "stream",
       "stream": "stdout",
       "text": [
        " hydromedusae_other 12\n",
        "67"
       ]
      },
      {
       "output_type": "stream",
       "stream": "stdout",
       "text": [
        " hydromedusae_partial_dark 190\n",
        "68"
       ]
      },
      {
       "output_type": "stream",
       "stream": "stdout",
       "text": [
        " hydromedusae_shapeA 412\n",
        "69"
       ]
      },
      {
       "output_type": "stream",
       "stream": "stdout",
       "text": [
        " hydromedusae_shapeA_sideview_small 274\n",
        "70"
       ]
      },
      {
       "output_type": "stream",
       "stream": "stdout",
       "text": [
        " hydromedusae_shapeB 150\n",
        "71"
       ]
      },
      {
       "output_type": "stream",
       "stream": "stdout",
       "text": [
        " hydromedusae_sideview_big 76\n",
        "72"
       ]
      },
      {
       "output_type": "stream",
       "stream": "stdout",
       "text": [
        " hydromedusae_solmaris 703\n",
        "73"
       ]
      },
      {
       "output_type": "stream",
       "stream": "stdout",
       "text": [
        " hydromedusae_solmundella 123\n",
        "74"
       ]
      },
      {
       "output_type": "stream",
       "stream": "stdout",
       "text": [
        " hydromedusae_typeD 43\n",
        "75"
       ]
      },
      {
       "output_type": "stream",
       "stream": "stdout",
       "text": [
        " hydromedusae_typeD_bell_and_tentacles 56\n",
        "76"
       ]
      },
      {
       "output_type": "stream",
       "stream": "stdout",
       "text": [
        " hydromedusae_typeE 14\n",
        "77"
       ]
      },
      {
       "output_type": "stream",
       "stream": "stdout",
       "text": [
        " hydromedusae_typeF 61\n",
        "78"
       ]
      },
      {
       "output_type": "stream",
       "stream": "stdout",
       "text": [
        " invertebrate_larvae_other_A 14\n",
        "79"
       ]
      },
      {
       "output_type": "stream",
       "stream": "stdout",
       "text": [
        " invertebrate_larvae_other_B 24\n",
        "80"
       ]
      },
      {
       "output_type": "stream",
       "stream": "stdout",
       "text": [
        " jellies_tentacles 141\n",
        "81"
       ]
      },
      {
       "output_type": "stream",
       "stream": "stdout",
       "text": [
        " polychaete 131\n",
        "82"
       ]
      },
      {
       "output_type": "stream",
       "stream": "stdout",
       "text": [
        " protist_dark_center 108\n",
        "83"
       ]
      },
      {
       "output_type": "stream",
       "stream": "stdout",
       "text": [
        " protist_fuzzy_olive 372\n",
        "84"
       ]
      },
      {
       "output_type": "stream",
       "stream": "stdout",
       "text": [
        " protist_noctiluca 625\n",
        "85"
       ]
      },
      {
       "output_type": "stream",
       "stream": "stdout",
       "text": [
        " protist_other 1172\n",
        "86"
       ]
      },
      {
       "output_type": "stream",
       "stream": "stdout",
       "text": [
        " protist_star 113\n",
        "87"
       ]
      },
      {
       "output_type": "stream",
       "stream": "stdout",
       "text": [
        " pteropod_butterfly 108\n",
        "88"
       ]
      },
      {
       "output_type": "stream",
       "stream": "stdout",
       "text": [
        " pteropod_theco_dev_seq 13\n",
        "89"
       ]
      },
      {
       "output_type": "stream",
       "stream": "stdout",
       "text": [
        " pteropod_triangle 65\n",
        "90"
       ]
      },
      {
       "output_type": "stream",
       "stream": "stdout",
       "text": [
        " radiolarian_chain 287\n",
        "91"
       ]
      },
      {
       "output_type": "stream",
       "stream": "stdout",
       "text": [
        " radiolarian_colony 158\n",
        "92"
       ]
      },
      {
       "output_type": "stream",
       "stream": "stdout",
       "text": [
        " shrimp-like_other 52\n",
        "93"
       ]
      },
      {
       "output_type": "stream",
       "stream": "stdout",
       "text": [
        " shrimp_caridean 49\n",
        "94"
       ]
      },
      {
       "output_type": "stream",
       "stream": "stdout",
       "text": [
        " shrimp_sergestidae 153\n",
        "95"
       ]
      },
      {
       "output_type": "stream",
       "stream": "stdout",
       "text": [
        " shrimp_zoea 174\n",
        "96"
       ]
      },
      {
       "output_type": "stream",
       "stream": "stdout",
       "text": [
        " siphonophore_calycophoran_abylidae 212\n",
        "97"
       ]
      },
      {
       "output_type": "stream",
       "stream": "stdout",
       "text": [
        " siphonophore_calycophoran_rocketship_adult 135\n",
        "98"
       ]
      },
      {
       "output_type": "stream",
       "stream": "stdout",
       "text": [
        " siphonophore_calycophoran_rocketship_young 483\n",
        "99"
       ]
      },
      {
       "output_type": "stream",
       "stream": "stdout",
       "text": [
        " siphonophore_calycophoran_sphaeronectes 179\n",
        "100"
       ]
      },
      {
       "output_type": "stream",
       "stream": "stdout",
       "text": [
        " siphonophore_calycophoran_sphaeronectes_stem 57\n",
        "101"
       ]
      },
      {
       "output_type": "stream",
       "stream": "stdout",
       "text": [
        " siphonophore_calycophoran_sphaeronectes_young 247\n",
        "102"
       ]
      },
      {
       "output_type": "stream",
       "stream": "stdout",
       "text": [
        " siphonophore_other_parts 29\n",
        "103"
       ]
      },
      {
       "output_type": "stream",
       "stream": "stdout",
       "text": [
        " siphonophore_partial 30\n",
        "104"
       ]
      },
      {
       "output_type": "stream",
       "stream": "stdout",
       "text": [
        " siphonophore_physonect 128\n",
        "105"
       ]
      },
      {
       "output_type": "stream",
       "stream": "stdout",
       "text": [
        " siphonophore_physonect_young 21\n",
        "106"
       ]
      },
      {
       "output_type": "stream",
       "stream": "stdout",
       "text": [
        " stomatopod 24\n",
        "107"
       ]
      },
      {
       "output_type": "stream",
       "stream": "stdout",
       "text": [
        " tornaria_acorn_worm_larvae 38\n",
        "108"
       ]
      },
      {
       "output_type": "stream",
       "stream": "stdout",
       "text": [
        " trichodesmium_bowtie 708\n",
        "109"
       ]
      },
      {
       "output_type": "stream",
       "stream": "stdout",
       "text": [
        " trichodesmium_multiple 54\n",
        "110"
       ]
      },
      {
       "output_type": "stream",
       "stream": "stdout",
       "text": [
        " trichodesmium_puff 1979\n",
        "111"
       ]
      },
      {
       "output_type": "stream",
       "stream": "stdout",
       "text": [
        " trichodesmium_tuft 678\n",
        "112"
       ]
      },
      {
       "output_type": "stream",
       "stream": "stdout",
       "text": [
        " trochophore_larvae 29\n",
        "113"
       ]
      },
      {
       "output_type": "stream",
       "stream": "stdout",
       "text": [
        " tunicate_doliolid 439\n",
        "114"
       ]
      },
      {
       "output_type": "stream",
       "stream": "stdout",
       "text": [
        " tunicate_doliolid_nurse 417\n",
        "115"
       ]
      },
      {
       "output_type": "stream",
       "stream": "stdout",
       "text": [
        " tunicate_partial 352\n",
        "116"
       ]
      },
      {
       "output_type": "stream",
       "stream": "stdout",
       "text": [
        " tunicate_salp 236\n",
        "117"
       ]
      },
      {
       "output_type": "stream",
       "stream": "stdout",
       "text": [
        " tunicate_salp_chains 73\n",
        "118"
       ]
      },
      {
       "output_type": "stream",
       "stream": "stdout",
       "text": [
        " unknown_blobs_and_smudges 317\n",
        "119"
       ]
      },
      {
       "output_type": "stream",
       "stream": "stdout",
       "text": [
        " unknown_sticks 175\n",
        "120"
       ]
      },
      {
       "output_type": "stream",
       "stream": "stdout",
       "text": [
        " unknown_unclassified 425\n",
        "(30336, 31)"
       ]
      },
      {
       "output_type": "stream",
       "stream": "stdout",
       "text": [
        "\n"
       ]
      }
     ],
     "prompt_number": 6
    },
    {
     "cell_type": "code",
     "collapsed": false,
     "input": [
      "stop_time = datetime.datetime.now()\n",
      "print stop_time\n",
      "print (stop_time - start_time), \"elapsed time [TRAIN]\"\n",
      "start_time = stop_time"
     ],
     "language": "python",
     "metadata": {},
     "outputs": [
      {
       "output_type": "stream",
       "stream": "stdout",
       "text": [
        "2015-02-01 02:18:02.316000\n",
        "0:06:07.736000 elapsed time [TRAIN]\n"
       ]
      }
     ],
     "prompt_number": 7
    },
    {
     "cell_type": "heading",
     "level": 2,
     "metadata": {},
     "source": [
      "Test Images"
     ]
    },
    {
     "cell_type": "code",
     "collapsed": false,
     "input": [
      "# imagePropertiesList will contain a list of dictionaries with each\n",
      "# dictionary the skiimage region properties for one plankton image.\n",
      "imagePropertiesList = []\n",
      "\n",
      "filenames = os.listdir(\"test\")    \n",
      "print len(filenames)\n",
      "\n",
      "for index in range(len(filenames)):\n",
      "    filename = filenames[index]\n",
      "    fullname = os.path.join(\"test\", filename)\n",
      "        \n",
      "    imagePropertyDict = getMaxAreaDict(fullname)\n",
      "    \n",
      "    # Add filename for test set.\n",
      "    imagePropertyDict['filename'] = filename \n",
      "    \n",
      "    imagePropertiesList.append(imagePropertyDict)\n",
      "    \n",
      "    if index % 5000 == 0:\n",
      "        print index, \"/\", len(filenames)\n",
      "        \n",
      "# Convert list of dictionaries to pandas dataframe.\n",
      "df = pandas.DataFrame(imagePropertiesList)\n",
      "print df.shape\n",
      "\n",
      "# Save to .csv file\n",
      "df.to_csv('test-properties.csv', index=False)  "
     ],
     "language": "python",
     "metadata": {},
     "outputs": [
      {
       "output_type": "stream",
       "stream": "stdout",
       "text": [
        "130400\n",
        "0 / 130400\n",
        "5000"
       ]
      },
      {
       "output_type": "stream",
       "stream": "stdout",
       "text": [
        " / 130400\n",
        "10000"
       ]
      },
      {
       "output_type": "stream",
       "stream": "stdout",
       "text": [
        " / 130400\n",
        "15000"
       ]
      },
      {
       "output_type": "stream",
       "stream": "stdout",
       "text": [
        " / 130400\n",
        "20000"
       ]
      },
      {
       "output_type": "stream",
       "stream": "stdout",
       "text": [
        " / 130400\n",
        "25000"
       ]
      },
      {
       "output_type": "stream",
       "stream": "stdout",
       "text": [
        " / 130400\n",
        "30000"
       ]
      },
      {
       "output_type": "stream",
       "stream": "stdout",
       "text": [
        " / 130400\n",
        "35000"
       ]
      },
      {
       "output_type": "stream",
       "stream": "stdout",
       "text": [
        " / 130400\n",
        "40000"
       ]
      },
      {
       "output_type": "stream",
       "stream": "stdout",
       "text": [
        " / 130400\n",
        "45000"
       ]
      },
      {
       "output_type": "stream",
       "stream": "stdout",
       "text": [
        " / 130400\n",
        "50000"
       ]
      },
      {
       "output_type": "stream",
       "stream": "stdout",
       "text": [
        " / 130400\n",
        "55000"
       ]
      },
      {
       "output_type": "stream",
       "stream": "stdout",
       "text": [
        " / 130400\n",
        "60000"
       ]
      },
      {
       "output_type": "stream",
       "stream": "stdout",
       "text": [
        " / 130400\n",
        "65000"
       ]
      },
      {
       "output_type": "stream",
       "stream": "stdout",
       "text": [
        " / 130400\n",
        "70000"
       ]
      },
      {
       "output_type": "stream",
       "stream": "stdout",
       "text": [
        " / 130400\n",
        "75000"
       ]
      },
      {
       "output_type": "stream",
       "stream": "stdout",
       "text": [
        " / 130400\n",
        "80000"
       ]
      },
      {
       "output_type": "stream",
       "stream": "stdout",
       "text": [
        " / 130400\n",
        "85000"
       ]
      },
      {
       "output_type": "stream",
       "stream": "stdout",
       "text": [
        " / 130400\n",
        "90000"
       ]
      },
      {
       "output_type": "stream",
       "stream": "stdout",
       "text": [
        " / 130400\n",
        "95000"
       ]
      },
      {
       "output_type": "stream",
       "stream": "stdout",
       "text": [
        " / 130400\n",
        "100000"
       ]
      },
      {
       "output_type": "stream",
       "stream": "stdout",
       "text": [
        " / 130400\n",
        "105000"
       ]
      },
      {
       "output_type": "stream",
       "stream": "stdout",
       "text": [
        " / 130400\n",
        "110000"
       ]
      },
      {
       "output_type": "stream",
       "stream": "stdout",
       "text": [
        " / 130400\n",
        "115000"
       ]
      },
      {
       "output_type": "stream",
       "stream": "stdout",
       "text": [
        " / 130400\n",
        "120000"
       ]
      },
      {
       "output_type": "stream",
       "stream": "stdout",
       "text": [
        " / 130400\n",
        "125000"
       ]
      },
      {
       "output_type": "stream",
       "stream": "stdout",
       "text": [
        " / 130400\n",
        "130000"
       ]
      },
      {
       "output_type": "stream",
       "stream": "stdout",
       "text": [
        " / 130400\n",
        "(130400, 30)"
       ]
      },
      {
       "output_type": "stream",
       "stream": "stdout",
       "text": [
        "\n"
       ]
      }
     ],
     "prompt_number": 8
    },
    {
     "cell_type": "code",
     "collapsed": false,
     "input": [
      "stop_time = datetime.datetime.now()\n",
      "print stop_time\n",
      "print (stop_time - start_time), \"elapsed time [TEST]\""
     ],
     "language": "python",
     "metadata": {},
     "outputs": [
      {
       "output_type": "stream",
       "stream": "stdout",
       "text": [
        "2015-02-01 02:59:59.740000\n",
        "0:41:57.424000 elapsed time [TEST]\n"
       ]
      }
     ],
     "prompt_number": 9
    }
   ],
   "metadata": {}
  }
 ]
}