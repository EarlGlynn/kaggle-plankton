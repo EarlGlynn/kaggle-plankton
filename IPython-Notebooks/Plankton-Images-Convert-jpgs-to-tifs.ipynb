{
 "metadata": {
  "name": "",
  "signature": "sha256:ca28e308d64770d0e00c39b2a09c50148f13bad45b4e7fd5c99051183587ac3e"
 },
 "nbformat": 3,
 "nbformat_minor": 0,
 "worksheets": [
  {
   "cells": [
    {
     "cell_type": "code",
     "collapsed": false,
     "input": [
      "import os\n",
      "import subprocess"
     ],
     "language": "python",
     "metadata": {},
     "outputs": [],
     "prompt_number": 1
    },
    {
     "cell_type": "code",
     "collapsed": false,
     "input": [
      "import datetime\n",
      "time_start = datetime.datetime.now()\n",
      "print time_start"
     ],
     "language": "python",
     "metadata": {},
     "outputs": [
      {
       "output_type": "stream",
       "stream": "stdout",
       "text": [
        "2015-02-05 13:34:55.322921\n"
       ]
      }
     ],
     "prompt_number": 2
    },
    {
     "cell_type": "code",
     "collapsed": false,
     "input": [
      "BASEDIR = \"/home/efg/2015/Kaggle/Plankton/\"\n",
      "\n",
      "# DIRWALK = [dirpath, direnames, filenames]\n",
      "DIRWALK = [fileNameDir for fileNameDir in os.walk(BASEDIR)]"
     ],
     "language": "python",
     "metadata": {},
     "outputs": [],
     "prompt_number": 3
    },
    {
     "cell_type": "code",
     "collapsed": false,
     "input": [
      "for i in range(len(DIRWALK)):  \n",
      "    print i, DIRWALK[i][0], DIRWALK[i][1], len(DIRWALK[i][2])"
     ],
     "language": "python",
     "metadata": {},
     "outputs": [
      {
       "output_type": "stream",
       "stream": "stdout",
       "text": [
        "0 /home/efg/2015/Kaggle/Plankton/ ['train', 'test'] 0\n",
        "1 /home/efg/2015/Kaggle/Plankton/train ['appendicularian_slight_curve', 'chaetognath_other', 'hydromedusae_typeE', 'copepod_calanoid_large_side_antennatucked', 'copepod_calanoid_flatheads', 'shrimp-like_other', 'protist_dark_center', 'decapods', 'echinoderm_larva_pluteus_urchin', 'heteropod', 'acantharia_protist_big_center', 'hydromedusae_typeD_bell_and_tentacles', 'ctenophore_lobate', 'unknown_unclassified', 'protist_other', 'fish_larvae_medium_body', 'copepod_calanoid_large', 'copepod_calanoid_octomoms', 'hydromedusae_shapeB', 'echinoderm_larva_pluteus_early', 'hydromedusae_h15', 'copepod_cyclopoid_oithona_eggs', 'invertebrate_larvae_other_B', 'ctenophore_cydippid_tentacles', 'hydromedusae_liriope', 'detritus_blob', 'copepod_cyclopoid_copilia', 'hydromedusae_narco_young', 'siphonophore_calycophoran_sphaeronectes_young', 'unknown_sticks', 'siphonophore_calycophoran_sphaeronectes_stem', 'tunicate_doliolid', 'fish_larvae_leptocephali', 'trichodesmium_multiple', 'detritus_filamentous', 'tunicate_partial', 'fecal_pellet', 'hydromedusae_shapeA', 'siphonophore_calycophoran_rocketship_adult', 'radiolarian_chain', 'shrimp_zoea', 'tunicate_salp', 'trichodesmium_bowtie', 'copepod_calanoid_small_longantennae', 'hydromedusae_other', 'hydromedusae_typeF', 'protist_noctiluca', 'chaetognath_non_sagitta', 'echinoderm_larva_seastar_brachiolaria', 'pteropod_butterfly', 'echinopluteus', 'ephyra', 'ctenophore_cydippid_no_tentacles', 'artifacts_edge', 'echinoderm_seacucumber_auricularia_larva', 'trichodesmium_puff', 'protist_star', 'tunicate_salp_chains', 'echinoderm_larva_pluteus_typeC', 'artifacts', 'euphausiids_young', 'copepod_other', 'amphipods', 'diatom_chain_tube', 'siphonophore_physonect', 'hydromedusae_solmundella', 'chordate_type1', 'invertebrate_larvae_other_A', 'siphonophore_physonect_young', 'hydromedusae_haliscera', 'fish_larvae_myctophids', 'siphonophore_other_parts', 'hydromedusae_shapeA_sideview_small', 'siphonophore_partial', 'hydromedusae_typeD', 'siphonophore_calycophoran_sphaeronectes', 'pteropod_theco_dev_seq', 'protist_fuzzy_olive', 'chaetognath_sagitta', 'hydromedusae_bell_and_tentacles', 'shrimp_sergestidae', 'radiolarian_colony', 'echinoderm_larva_pluteus_brittlestar', 'stomatopod', 'pteropod_triangle', 'tunicate_doliolid_nurse', 'polychaete', 'hydromedusae_haliscera_small_sideview', 'detritus_other', 'copepod_cyclopoid_oithona', 'unknown_blobs_and_smudges', 'shrimp_caridean', 'hydromedusae_narco_dark', 'copepod_calanoid_eucalanus', 'appendicularian_straight', 'appendicularian_s_shape', 'hydromedusae_aglaura', 'crustacean_other', 'trochophore_larvae', 'siphonophore_calycophoran_rocketship_young', 'hydromedusae_partial_dark', 'echinoderm_larva_seastar_bipinnaria', 'acantharia_protist_halo', 'acantharia_protist', 'copepod_calanoid_frillyAntennae', 'diatom_chain_string', 'hydromedusae_narcomedusae', 'ctenophore_cestid', 'trichodesmium_tuft', 'copepod_calanoid', 'hydromedusae_solmaris', 'euphausiids', 'fish_larvae_very_thin_body', 'fish_larvae_thin_body', 'tornaria_acorn_worm_larvae', 'copepod_calanoid_eggs', 'hydromedusae_sideview_big', 'appendicularian_fritillaridae', 'siphonophore_calycophoran_abylidae', 'fish_larvae_deep_body', 'jellies_tentacles'] 0\n",
        "2 /home/efg/2015/Kaggle/Plankton/train/appendicularian_slight_curve [] 483\n",
        "3 /home/efg/2015/Kaggle/Plankton/train/chaetognath_other [] 1934\n",
        "4 /home/efg/2015/Kaggle/Plankton/train/hydromedusae_typeE [] 14\n",
        "5 /home/efg/2015/Kaggle/Plankton/train/copepod_calanoid_large_side_antennatucked [] 106\n",
        "6 /home/efg/2015/Kaggle/Plankton/train/copepod_calanoid_flatheads [] 178\n",
        "7 /home/efg/2015/Kaggle/Plankton/train/shrimp-like_other [] 52\n",
        "8 /home/efg/2015/Kaggle/Plankton/train/protist_dark_center [] 108\n",
        "9 /home/efg/2015/Kaggle/Plankton/train/decapods [] 55\n",
        "10 /home/efg/2015/Kaggle/Plankton/train/echinoderm_larva_pluteus_urchin [] 88\n",
        "11 /home/efg/2015/Kaggle/Plankton/train/heteropod [] 10\n",
        "12 /home/efg/2015/Kaggle/Plankton/train/acantharia_protist_big_center [] 13\n",
        "13 /home/efg/2015/Kaggle/Plankton/train/hydromedusae_typeD_bell_and_tentacles [] 56\n",
        "14 /home/efg/2015/Kaggle/Plankton/train/ctenophore_lobate [] 38\n",
        "15 /home/efg/2015/Kaggle/Plankton/train/unknown_unclassified [] 425\n",
        "16 /home/efg/2015/Kaggle/Plankton/train/protist_other [] 1172\n",
        "17 /home/efg/2015/Kaggle/Plankton/train/fish_larvae_medium_body [] 85\n",
        "18 /home/efg/2015/Kaggle/Plankton/train/copepod_calanoid_large [] 286\n",
        "19 /home/efg/2015/Kaggle/Plankton/train/copepod_calanoid_octomoms [] 49\n",
        "20 /home/efg/2015/Kaggle/Plankton/train/hydromedusae_shapeB [] 150\n",
        "21 /home/efg/2015/Kaggle/Plankton/train/echinoderm_larva_pluteus_early [] 92\n",
        "22 /home/efg/2015/Kaggle/Plankton/train/hydromedusae_h15 [] 35\n",
        "23 /home/efg/2015/Kaggle/Plankton/train/copepod_cyclopoid_oithona_eggs [] 1189\n",
        "24 /home/efg/2015/Kaggle/Plankton/train/invertebrate_larvae_other_B [] 24\n",
        "25 /home/efg/2015/Kaggle/Plankton/train/ctenophore_cydippid_tentacles [] 53\n",
        "26 /home/efg/2015/Kaggle/Plankton/train/hydromedusae_liriope [] 19\n",
        "27 /home/efg/2015/Kaggle/Plankton/train/detritus_blob [] 363\n",
        "28 /home/efg/2015/Kaggle/Plankton/train/copepod_cyclopoid_copilia [] 30\n",
        "29 /home/efg/2015/Kaggle/Plankton/train/hydromedusae_narco_young [] 336\n",
        "30 /home/efg/2015/Kaggle/Plankton/train/siphonophore_calycophoran_sphaeronectes_young [] 247\n",
        "31 /home/efg/2015/Kaggle/Plankton/train/unknown_sticks [] 175\n",
        "32 /home/efg/2015/Kaggle/Plankton/train/siphonophore_calycophoran_sphaeronectes_stem [] 57\n",
        "33 /home/efg/2015/Kaggle/Plankton/train/tunicate_doliolid [] 439\n",
        "34 /home/efg/2015/Kaggle/Plankton/train/fish_larvae_leptocephali [] 31\n",
        "35 /home/efg/2015/Kaggle/Plankton/train/trichodesmium_multiple [] 54\n",
        "36 /home/efg/2015/Kaggle/Plankton/train/detritus_filamentous [] 394\n",
        "37 /home/efg/2015/Kaggle/Plankton/train/tunicate_partial [] 352\n",
        "38 /home/efg/2015/Kaggle/Plankton/train/fecal_pellet [] 511\n",
        "39 /home/efg/2015/Kaggle/Plankton/train/hydromedusae_shapeA [] 412\n",
        "40 /home/efg/2015/Kaggle/Plankton/train/siphonophore_calycophoran_rocketship_adult [] 135\n",
        "41 /home/efg/2015/Kaggle/Plankton/train/radiolarian_chain [] 287\n",
        "42 /home/efg/2015/Kaggle/Plankton/train/shrimp_zoea [] 174\n",
        "43 /home/efg/2015/Kaggle/Plankton/train/tunicate_salp [] 236\n",
        "44 /home/efg/2015/Kaggle/Plankton/train/trichodesmium_bowtie [] 708\n",
        "45 /home/efg/2015/Kaggle/Plankton/train/copepod_calanoid_small_longantennae [] 87\n",
        "46 /home/efg/2015/Kaggle/Plankton/train/hydromedusae_other [] 12\n",
        "47 /home/efg/2015/Kaggle/Plankton/train/hydromedusae_typeF [] 61\n",
        "48 /home/efg/2015/Kaggle/Plankton/train/protist_noctiluca [] 625\n",
        "49 /home/efg/2015/Kaggle/Plankton/train/chaetognath_non_sagitta [] 815\n",
        "50 /home/efg/2015/Kaggle/Plankton/train/echinoderm_larva_seastar_brachiolaria [] 536\n",
        "51 /home/efg/2015/Kaggle/Plankton/train/pteropod_butterfly [] 108\n",
        "52 /home/efg/2015/Kaggle/Plankton/train/echinopluteus [] 27\n",
        "53 /home/efg/2015/Kaggle/Plankton/train/ephyra [] 14\n",
        "54 /home/efg/2015/Kaggle/Plankton/train/ctenophore_cydippid_no_tentacles [] 42\n",
        "55 /home/efg/2015/Kaggle/Plankton/train/artifacts_edge [] 170\n",
        "56 /home/efg/2015/Kaggle/Plankton/train/echinoderm_seacucumber_auricularia_larva [] 96\n",
        "57 /home/efg/2015/Kaggle/Plankton/train/trichodesmium_puff [] 1979\n",
        "58 /home/efg/2015/Kaggle/Plankton/train/protist_star [] 113\n",
        "59 /home/efg/2015/Kaggle/Plankton/train/tunicate_salp_chains [] 73\n",
        "60 /home/efg/2015/Kaggle/Plankton/train/echinoderm_larva_pluteus_typeC [] 80\n",
        "61 /home/efg/2015/Kaggle/Plankton/train/artifacts [] 393\n",
        "62 /home/efg/2015/Kaggle/Plankton/train/euphausiids_young [] 38\n",
        "63 /home/efg/2015/Kaggle/Plankton/train/copepod_other [] 24\n",
        "64 /home/efg/2015/Kaggle/Plankton/train/amphipods [] 49\n",
        "65 /home/efg/2015/Kaggle/Plankton/train/diatom_chain_tube [] 500\n",
        "66 /home/efg/2015/Kaggle/Plankton/train/siphonophore_physonect [] 128\n",
        "67 /home/efg/2015/Kaggle/Plankton/train/hydromedusae_solmundella [] 123\n",
        "68 /home/efg/2015/Kaggle/Plankton/train/chordate_type1 [] 77\n",
        "69 /home/efg/2015/Kaggle/Plankton/train/invertebrate_larvae_other_A [] 14\n",
        "70 /home/efg/2015/Kaggle/Plankton/train/siphonophore_physonect_young [] 21\n",
        "71 /home/efg/2015/Kaggle/Plankton/train/hydromedusae_haliscera [] 229\n",
        "72 /home/efg/2015/Kaggle/Plankton/train/fish_larvae_myctophids [] 114\n",
        "73 /home/efg/2015/Kaggle/Plankton/train/siphonophore_other_parts [] 29\n",
        "74 /home/efg/2015/Kaggle/Plankton/train/hydromedusae_shapeA_sideview_small [] 274\n",
        "75 /home/efg/2015/Kaggle/Plankton/train/siphonophore_partial [] 30\n",
        "76 /home/efg/2015/Kaggle/Plankton/train/hydromedusae_typeD [] 43\n",
        "77 /home/efg/2015/Kaggle/Plankton/train/siphonophore_calycophoran_sphaeronectes [] 179\n",
        "78 /home/efg/2015/Kaggle/Plankton/train/pteropod_theco_dev_seq [] 13\n",
        "79 /home/efg/2015/Kaggle/Plankton/train/protist_fuzzy_olive [] 372\n",
        "80 /home/efg/2015/Kaggle/Plankton/train/chaetognath_sagitta [] 694\n",
        "81 /home/efg/2015/Kaggle/Plankton/train/hydromedusae_bell_and_tentacles [] 75\n",
        "82 /home/efg/2015/Kaggle/Plankton/train/shrimp_sergestidae [] 153\n",
        "83 /home/efg/2015/Kaggle/Plankton/train/radiolarian_colony [] 158\n",
        "84 /home/efg/2015/Kaggle/Plankton/train/echinoderm_larva_pluteus_brittlestar [] 36\n",
        "85 /home/efg/2015/Kaggle/Plankton/train/stomatopod [] 24\n",
        "86 /home/efg/2015/Kaggle/Plankton/train/pteropod_triangle [] 65\n",
        "87 /home/efg/2015/Kaggle/Plankton/train/tunicate_doliolid_nurse [] 417\n",
        "88 /home/efg/2015/Kaggle/Plankton/train/polychaete [] 131\n",
        "89 /home/efg/2015/Kaggle/Plankton/train/hydromedusae_haliscera_small_sideview [] 9\n",
        "90 /home/efg/2015/Kaggle/Plankton/train/detritus_other [] 914\n",
        "91 /home/efg/2015/Kaggle/Plankton/train/copepod_cyclopoid_oithona [] 899\n",
        "92 /home/efg/2015/Kaggle/Plankton/train/unknown_blobs_and_smudges [] 317\n",
        "93 /home/efg/2015/Kaggle/Plankton/train/shrimp_caridean [] 49\n",
        "94 /home/efg/2015/Kaggle/Plankton/train/hydromedusae_narco_dark [] 23\n",
        "95 /home/efg/2015/Kaggle/Plankton/train/copepod_calanoid_eucalanus [] 96\n",
        "96 /home/efg/2015/Kaggle/Plankton/train/appendicularian_straight [] 242\n",
        "97 /home/efg/2015/Kaggle/Plankton/train/appendicularian_s_shape [] 696\n",
        "98 /home/efg/2015/Kaggle/Plankton/train/hydromedusae_aglaura [] 127\n",
        "99 /home/efg/2015/Kaggle/Plankton/train/crustacean_other [] 201\n",
        "100 /home/efg/2015/Kaggle/Plankton/train/trochophore_larvae [] 29\n",
        "101 /home/efg/2015/Kaggle/Plankton/train/siphonophore_calycophoran_rocketship_young [] 483\n",
        "102 /home/efg/2015/Kaggle/Plankton/train/hydromedusae_partial_dark [] 190\n",
        "103 /home/efg/2015/Kaggle/Plankton/train/echinoderm_larva_seastar_bipinnaria [] 385\n",
        "104 /home/efg/2015/Kaggle/Plankton/train/acantharia_protist_halo [] 71\n",
        "105 /home/efg/2015/Kaggle/Plankton/train/acantharia_protist [] 889\n",
        "106 /home/efg/2015/Kaggle/Plankton/train/copepod_calanoid_frillyAntennae [] 63\n",
        "107 /home/efg/2015/Kaggle/Plankton/train/diatom_chain_string [] 519\n",
        "108 /home/efg/2015/Kaggle/Plankton/train/hydromedusae_narcomedusae [] 132\n",
        "109 /home/efg/2015/Kaggle/Plankton/train/ctenophore_cestid [] 113\n",
        "110 /home/efg/2015/Kaggle/Plankton/train/trichodesmium_tuft [] 678\n",
        "111 /home/efg/2015/Kaggle/Plankton/train/copepod_calanoid [] 681\n",
        "112 /home/efg/2015/Kaggle/Plankton/train/hydromedusae_solmaris [] 703\n",
        "113 /home/efg/2015/Kaggle/Plankton/train/euphausiids [] 136\n",
        "114 /home/efg/2015/Kaggle/Plankton/train/fish_larvae_very_thin_body [] 16\n",
        "115 /home/efg/2015/Kaggle/Plankton/train/fish_larvae_thin_body [] 64\n",
        "116 /home/efg/2015/Kaggle/Plankton/train/tornaria_acorn_worm_larvae [] 38\n",
        "117 /home/efg/2015/Kaggle/Plankton/train/copepod_calanoid_eggs [] 173\n",
        "118 /home/efg/2015/Kaggle/Plankton/train/hydromedusae_sideview_big [] 76\n",
        "119 /home/efg/2015/Kaggle/Plankton/train/appendicularian_fritillaridae [] 16\n",
        "120 /home/efg/2015/Kaggle/Plankton/train/siphonophore_calycophoran_abylidae [] 212\n",
        "121 /home/efg/2015/Kaggle/Plankton/train/fish_larvae_deep_body [] 10\n",
        "122 /home/efg/2015/Kaggle/Plankton/train/jellies_tentacles [] 141\n",
        "123 /home/efg/2015/Kaggle/Plankton/test [] 130400\n"
       ]
      }
     ],
     "prompt_number": 4
    },
    {
     "cell_type": "code",
     "collapsed": false,
     "input": [
      "for i in range(len(DIRWALK)):\n",
      "    print i, DIRWALK[i][0], len(DIRWALK[i][2])\n",
      "    for j in range(len(DIRWALK[i][2])):        \n",
      "        filename = DIRWALK[i][2][j]\n",
      "        if j > 0 and j % 2500 == 0:\n",
      "            print j, filename\n",
      "        basename = os.path.join(DIRWALK[i][0], filename.rsplit(\".\",2)[0])\n",
      "        # print j, filename\n",
      "        subprocess.check_output([\"convert\", basename+\".jpg\", basename+\".tif\"])\n",
      "        # Use print for debug\n",
      "        # print subprocess.check_output([\"convert\", basename+\".jpg\", basename+\".tif\"])\n",
      "        os.remove(basename+\".jpg\")"
     ],
     "language": "python",
     "metadata": {},
     "outputs": [
      {
       "output_type": "stream",
       "stream": "stdout",
       "text": [
        "0 /home/efg/2015/Kaggle/Plankton/ 0\n",
        "1 /home/efg/2015/Kaggle/Plankton/train 0\n",
        "2 /home/efg/2015/Kaggle/Plankton/train/appendicularian_slight_curve 483\n",
        "3"
       ]
      },
      {
       "output_type": "stream",
       "stream": "stdout",
       "text": [
        " /home/efg/2015/Kaggle/Plankton/train/chaetognath_other 1934\n",
        "4"
       ]
      },
      {
       "output_type": "stream",
       "stream": "stdout",
       "text": [
        " /home/efg/2015/Kaggle/Plankton/train/hydromedusae_typeE 14\n",
        "5"
       ]
      },
      {
       "output_type": "stream",
       "stream": "stdout",
       "text": [
        " /home/efg/2015/Kaggle/Plankton/train/copepod_calanoid_large_side_antennatucked 106\n",
        "6"
       ]
      },
      {
       "output_type": "stream",
       "stream": "stdout",
       "text": [
        " /home/efg/2015/Kaggle/Plankton/train/copepod_calanoid_flatheads 178\n",
        "7"
       ]
      },
      {
       "output_type": "stream",
       "stream": "stdout",
       "text": [
        " /home/efg/2015/Kaggle/Plankton/train/shrimp-like_other 52\n",
        "8"
       ]
      },
      {
       "output_type": "stream",
       "stream": "stdout",
       "text": [
        " /home/efg/2015/Kaggle/Plankton/train/protist_dark_center 108\n",
        "9"
       ]
      },
      {
       "output_type": "stream",
       "stream": "stdout",
       "text": [
        " /home/efg/2015/Kaggle/Plankton/train/decapods 55\n",
        "10"
       ]
      },
      {
       "output_type": "stream",
       "stream": "stdout",
       "text": [
        " /home/efg/2015/Kaggle/Plankton/train/echinoderm_larva_pluteus_urchin 88\n",
        "11"
       ]
      },
      {
       "output_type": "stream",
       "stream": "stdout",
       "text": [
        " /home/efg/2015/Kaggle/Plankton/train/heteropod 10\n",
        "12"
       ]
      },
      {
       "output_type": "stream",
       "stream": "stdout",
       "text": [
        " /home/efg/2015/Kaggle/Plankton/train/acantharia_protist_big_center 13\n",
        "13"
       ]
      },
      {
       "output_type": "stream",
       "stream": "stdout",
       "text": [
        " /home/efg/2015/Kaggle/Plankton/train/hydromedusae_typeD_bell_and_tentacles 56\n",
        "14"
       ]
      },
      {
       "output_type": "stream",
       "stream": "stdout",
       "text": [
        " /home/efg/2015/Kaggle/Plankton/train/ctenophore_lobate 38\n",
        "15"
       ]
      },
      {
       "output_type": "stream",
       "stream": "stdout",
       "text": [
        " /home/efg/2015/Kaggle/Plankton/train/unknown_unclassified 425\n",
        "16"
       ]
      },
      {
       "output_type": "stream",
       "stream": "stdout",
       "text": [
        " /home/efg/2015/Kaggle/Plankton/train/protist_other 1172\n",
        "17"
       ]
      },
      {
       "output_type": "stream",
       "stream": "stdout",
       "text": [
        " /home/efg/2015/Kaggle/Plankton/train/fish_larvae_medium_body 85\n",
        "18"
       ]
      },
      {
       "output_type": "stream",
       "stream": "stdout",
       "text": [
        " /home/efg/2015/Kaggle/Plankton/train/copepod_calanoid_large 286\n",
        "19"
       ]
      },
      {
       "output_type": "stream",
       "stream": "stdout",
       "text": [
        " /home/efg/2015/Kaggle/Plankton/train/copepod_calanoid_octomoms 49\n",
        "20"
       ]
      },
      {
       "output_type": "stream",
       "stream": "stdout",
       "text": [
        " /home/efg/2015/Kaggle/Plankton/train/hydromedusae_shapeB 150\n",
        "21"
       ]
      },
      {
       "output_type": "stream",
       "stream": "stdout",
       "text": [
        " /home/efg/2015/Kaggle/Plankton/train/echinoderm_larva_pluteus_early 92\n",
        "22"
       ]
      },
      {
       "output_type": "stream",
       "stream": "stdout",
       "text": [
        " /home/efg/2015/Kaggle/Plankton/train/hydromedusae_h15 35\n",
        "23"
       ]
      },
      {
       "output_type": "stream",
       "stream": "stdout",
       "text": [
        " /home/efg/2015/Kaggle/Plankton/train/copepod_cyclopoid_oithona_eggs 1189\n",
        "24"
       ]
      },
      {
       "output_type": "stream",
       "stream": "stdout",
       "text": [
        " /home/efg/2015/Kaggle/Plankton/train/invertebrate_larvae_other_B 24\n",
        "25"
       ]
      },
      {
       "output_type": "stream",
       "stream": "stdout",
       "text": [
        " /home/efg/2015/Kaggle/Plankton/train/ctenophore_cydippid_tentacles 53\n",
        "26"
       ]
      },
      {
       "output_type": "stream",
       "stream": "stdout",
       "text": [
        " /home/efg/2015/Kaggle/Plankton/train/hydromedusae_liriope 19\n",
        "27"
       ]
      },
      {
       "output_type": "stream",
       "stream": "stdout",
       "text": [
        " /home/efg/2015/Kaggle/Plankton/train/detritus_blob 363\n",
        "28"
       ]
      },
      {
       "output_type": "stream",
       "stream": "stdout",
       "text": [
        " /home/efg/2015/Kaggle/Plankton/train/copepod_cyclopoid_copilia 30\n",
        "29"
       ]
      },
      {
       "output_type": "stream",
       "stream": "stdout",
       "text": [
        " /home/efg/2015/Kaggle/Plankton/train/hydromedusae_narco_young 336\n",
        "30"
       ]
      },
      {
       "output_type": "stream",
       "stream": "stdout",
       "text": [
        " /home/efg/2015/Kaggle/Plankton/train/siphonophore_calycophoran_sphaeronectes_young 247\n",
        "31"
       ]
      },
      {
       "output_type": "stream",
       "stream": "stdout",
       "text": [
        " /home/efg/2015/Kaggle/Plankton/train/unknown_sticks 175\n",
        "32"
       ]
      },
      {
       "output_type": "stream",
       "stream": "stdout",
       "text": [
        " /home/efg/2015/Kaggle/Plankton/train/siphonophore_calycophoran_sphaeronectes_stem 57\n",
        "33"
       ]
      },
      {
       "output_type": "stream",
       "stream": "stdout",
       "text": [
        " /home/efg/2015/Kaggle/Plankton/train/tunicate_doliolid 439\n",
        "34"
       ]
      },
      {
       "output_type": "stream",
       "stream": "stdout",
       "text": [
        " /home/efg/2015/Kaggle/Plankton/train/fish_larvae_leptocephali 31\n",
        "35"
       ]
      },
      {
       "output_type": "stream",
       "stream": "stdout",
       "text": [
        " /home/efg/2015/Kaggle/Plankton/train/trichodesmium_multiple 54\n",
        "36"
       ]
      },
      {
       "output_type": "stream",
       "stream": "stdout",
       "text": [
        " /home/efg/2015/Kaggle/Plankton/train/detritus_filamentous 394\n",
        "37"
       ]
      },
      {
       "output_type": "stream",
       "stream": "stdout",
       "text": [
        " /home/efg/2015/Kaggle/Plankton/train/tunicate_partial 352\n",
        "38"
       ]
      },
      {
       "output_type": "stream",
       "stream": "stdout",
       "text": [
        " /home/efg/2015/Kaggle/Plankton/train/fecal_pellet 511\n",
        "39"
       ]
      },
      {
       "output_type": "stream",
       "stream": "stdout",
       "text": [
        " /home/efg/2015/Kaggle/Plankton/train/hydromedusae_shapeA 412\n",
        "40"
       ]
      },
      {
       "output_type": "stream",
       "stream": "stdout",
       "text": [
        " /home/efg/2015/Kaggle/Plankton/train/siphonophore_calycophoran_rocketship_adult 135\n",
        "41"
       ]
      },
      {
       "output_type": "stream",
       "stream": "stdout",
       "text": [
        " /home/efg/2015/Kaggle/Plankton/train/radiolarian_chain 287\n",
        "42"
       ]
      },
      {
       "output_type": "stream",
       "stream": "stdout",
       "text": [
        " /home/efg/2015/Kaggle/Plankton/train/shrimp_zoea 174\n",
        "43"
       ]
      },
      {
       "output_type": "stream",
       "stream": "stdout",
       "text": [
        " /home/efg/2015/Kaggle/Plankton/train/tunicate_salp 236\n",
        "44"
       ]
      },
      {
       "output_type": "stream",
       "stream": "stdout",
       "text": [
        " /home/efg/2015/Kaggle/Plankton/train/trichodesmium_bowtie 708\n",
        "45"
       ]
      },
      {
       "output_type": "stream",
       "stream": "stdout",
       "text": [
        " /home/efg/2015/Kaggle/Plankton/train/copepod_calanoid_small_longantennae 87\n",
        "46"
       ]
      },
      {
       "output_type": "stream",
       "stream": "stdout",
       "text": [
        " /home/efg/2015/Kaggle/Plankton/train/hydromedusae_other 12\n",
        "47"
       ]
      },
      {
       "output_type": "stream",
       "stream": "stdout",
       "text": [
        " /home/efg/2015/Kaggle/Plankton/train/hydromedusae_typeF 61\n",
        "48"
       ]
      },
      {
       "output_type": "stream",
       "stream": "stdout",
       "text": [
        " /home/efg/2015/Kaggle/Plankton/train/protist_noctiluca 625\n",
        "49"
       ]
      },
      {
       "output_type": "stream",
       "stream": "stdout",
       "text": [
        " /home/efg/2015/Kaggle/Plankton/train/chaetognath_non_sagitta 815\n",
        "50"
       ]
      },
      {
       "output_type": "stream",
       "stream": "stdout",
       "text": [
        " /home/efg/2015/Kaggle/Plankton/train/echinoderm_larva_seastar_brachiolaria 536\n",
        "51"
       ]
      },
      {
       "output_type": "stream",
       "stream": "stdout",
       "text": [
        " /home/efg/2015/Kaggle/Plankton/train/pteropod_butterfly 108\n",
        "52"
       ]
      },
      {
       "output_type": "stream",
       "stream": "stdout",
       "text": [
        " /home/efg/2015/Kaggle/Plankton/train/echinopluteus 27\n",
        "53"
       ]
      },
      {
       "output_type": "stream",
       "stream": "stdout",
       "text": [
        " /home/efg/2015/Kaggle/Plankton/train/ephyra 14\n",
        "54"
       ]
      },
      {
       "output_type": "stream",
       "stream": "stdout",
       "text": [
        " /home/efg/2015/Kaggle/Plankton/train/ctenophore_cydippid_no_tentacles 42\n",
        "55"
       ]
      },
      {
       "output_type": "stream",
       "stream": "stdout",
       "text": [
        " /home/efg/2015/Kaggle/Plankton/train/artifacts_edge 170\n",
        "56"
       ]
      },
      {
       "output_type": "stream",
       "stream": "stdout",
       "text": [
        " /home/efg/2015/Kaggle/Plankton/train/echinoderm_seacucumber_auricularia_larva 96\n",
        "57"
       ]
      },
      {
       "output_type": "stream",
       "stream": "stdout",
       "text": [
        " /home/efg/2015/Kaggle/Plankton/train/trichodesmium_puff 1979\n",
        "58"
       ]
      },
      {
       "output_type": "stream",
       "stream": "stdout",
       "text": [
        " /home/efg/2015/Kaggle/Plankton/train/protist_star 113\n",
        "59"
       ]
      },
      {
       "output_type": "stream",
       "stream": "stdout",
       "text": [
        " /home/efg/2015/Kaggle/Plankton/train/tunicate_salp_chains 73\n",
        "60"
       ]
      },
      {
       "output_type": "stream",
       "stream": "stdout",
       "text": [
        " /home/efg/2015/Kaggle/Plankton/train/echinoderm_larva_pluteus_typeC 80\n",
        "61"
       ]
      },
      {
       "output_type": "stream",
       "stream": "stdout",
       "text": [
        " /home/efg/2015/Kaggle/Plankton/train/artifacts 393\n",
        "62"
       ]
      },
      {
       "output_type": "stream",
       "stream": "stdout",
       "text": [
        " /home/efg/2015/Kaggle/Plankton/train/euphausiids_young 38\n",
        "63"
       ]
      },
      {
       "output_type": "stream",
       "stream": "stdout",
       "text": [
        " /home/efg/2015/Kaggle/Plankton/train/copepod_other 24\n",
        "64"
       ]
      },
      {
       "output_type": "stream",
       "stream": "stdout",
       "text": [
        " /home/efg/2015/Kaggle/Plankton/train/amphipods 49\n",
        "65"
       ]
      },
      {
       "output_type": "stream",
       "stream": "stdout",
       "text": [
        " /home/efg/2015/Kaggle/Plankton/train/diatom_chain_tube 500\n",
        "66"
       ]
      },
      {
       "output_type": "stream",
       "stream": "stdout",
       "text": [
        " /home/efg/2015/Kaggle/Plankton/train/siphonophore_physonect 128\n",
        "67"
       ]
      },
      {
       "output_type": "stream",
       "stream": "stdout",
       "text": [
        " /home/efg/2015/Kaggle/Plankton/train/hydromedusae_solmundella 123\n",
        "68"
       ]
      },
      {
       "output_type": "stream",
       "stream": "stdout",
       "text": [
        " /home/efg/2015/Kaggle/Plankton/train/chordate_type1 77\n",
        "69"
       ]
      },
      {
       "output_type": "stream",
       "stream": "stdout",
       "text": [
        " /home/efg/2015/Kaggle/Plankton/train/invertebrate_larvae_other_A 14\n",
        "70"
       ]
      },
      {
       "output_type": "stream",
       "stream": "stdout",
       "text": [
        " /home/efg/2015/Kaggle/Plankton/train/siphonophore_physonect_young 21\n",
        "71"
       ]
      },
      {
       "output_type": "stream",
       "stream": "stdout",
       "text": [
        " /home/efg/2015/Kaggle/Plankton/train/hydromedusae_haliscera 229\n",
        "72"
       ]
      },
      {
       "output_type": "stream",
       "stream": "stdout",
       "text": [
        " /home/efg/2015/Kaggle/Plankton/train/fish_larvae_myctophids 114\n",
        "73"
       ]
      },
      {
       "output_type": "stream",
       "stream": "stdout",
       "text": [
        " /home/efg/2015/Kaggle/Plankton/train/siphonophore_other_parts 29\n",
        "74"
       ]
      },
      {
       "output_type": "stream",
       "stream": "stdout",
       "text": [
        " /home/efg/2015/Kaggle/Plankton/train/hydromedusae_shapeA_sideview_small 274\n",
        "75"
       ]
      },
      {
       "output_type": "stream",
       "stream": "stdout",
       "text": [
        " /home/efg/2015/Kaggle/Plankton/train/siphonophore_partial 30\n",
        "76"
       ]
      },
      {
       "output_type": "stream",
       "stream": "stdout",
       "text": [
        " /home/efg/2015/Kaggle/Plankton/train/hydromedusae_typeD 43\n",
        "77"
       ]
      },
      {
       "output_type": "stream",
       "stream": "stdout",
       "text": [
        " /home/efg/2015/Kaggle/Plankton/train/siphonophore_calycophoran_sphaeronectes 179\n",
        "78"
       ]
      },
      {
       "output_type": "stream",
       "stream": "stdout",
       "text": [
        " /home/efg/2015/Kaggle/Plankton/train/pteropod_theco_dev_seq 13\n",
        "79"
       ]
      },
      {
       "output_type": "stream",
       "stream": "stdout",
       "text": [
        " /home/efg/2015/Kaggle/Plankton/train/protist_fuzzy_olive 372\n",
        "80"
       ]
      },
      {
       "output_type": "stream",
       "stream": "stdout",
       "text": [
        " /home/efg/2015/Kaggle/Plankton/train/chaetognath_sagitta 694\n",
        "81"
       ]
      },
      {
       "output_type": "stream",
       "stream": "stdout",
       "text": [
        " /home/efg/2015/Kaggle/Plankton/train/hydromedusae_bell_and_tentacles 75\n",
        "82"
       ]
      },
      {
       "output_type": "stream",
       "stream": "stdout",
       "text": [
        " /home/efg/2015/Kaggle/Plankton/train/shrimp_sergestidae 153\n",
        "83"
       ]
      },
      {
       "output_type": "stream",
       "stream": "stdout",
       "text": [
        " /home/efg/2015/Kaggle/Plankton/train/radiolarian_colony 158\n",
        "84"
       ]
      },
      {
       "output_type": "stream",
       "stream": "stdout",
       "text": [
        " /home/efg/2015/Kaggle/Plankton/train/echinoderm_larva_pluteus_brittlestar 36\n",
        "85"
       ]
      },
      {
       "output_type": "stream",
       "stream": "stdout",
       "text": [
        " /home/efg/2015/Kaggle/Plankton/train/stomatopod 24\n",
        "86"
       ]
      },
      {
       "output_type": "stream",
       "stream": "stdout",
       "text": [
        " /home/efg/2015/Kaggle/Plankton/train/pteropod_triangle 65\n",
        "87"
       ]
      },
      {
       "output_type": "stream",
       "stream": "stdout",
       "text": [
        " /home/efg/2015/Kaggle/Plankton/train/tunicate_doliolid_nurse 417\n",
        "88"
       ]
      },
      {
       "output_type": "stream",
       "stream": "stdout",
       "text": [
        " /home/efg/2015/Kaggle/Plankton/train/polychaete 131\n",
        "89"
       ]
      },
      {
       "output_type": "stream",
       "stream": "stdout",
       "text": [
        " /home/efg/2015/Kaggle/Plankton/train/hydromedusae_haliscera_small_sideview 9\n",
        "90"
       ]
      },
      {
       "output_type": "stream",
       "stream": "stdout",
       "text": [
        " /home/efg/2015/Kaggle/Plankton/train/detritus_other 914\n",
        "91"
       ]
      },
      {
       "output_type": "stream",
       "stream": "stdout",
       "text": [
        " /home/efg/2015/Kaggle/Plankton/train/copepod_cyclopoid_oithona 899\n",
        "92"
       ]
      },
      {
       "output_type": "stream",
       "stream": "stdout",
       "text": [
        " /home/efg/2015/Kaggle/Plankton/train/unknown_blobs_and_smudges 317\n",
        "93"
       ]
      },
      {
       "output_type": "stream",
       "stream": "stdout",
       "text": [
        " /home/efg/2015/Kaggle/Plankton/train/shrimp_caridean 49\n",
        "94"
       ]
      },
      {
       "output_type": "stream",
       "stream": "stdout",
       "text": [
        " /home/efg/2015/Kaggle/Plankton/train/hydromedusae_narco_dark 23\n",
        "95"
       ]
      },
      {
       "output_type": "stream",
       "stream": "stdout",
       "text": [
        " /home/efg/2015/Kaggle/Plankton/train/copepod_calanoid_eucalanus 96\n",
        "96"
       ]
      },
      {
       "output_type": "stream",
       "stream": "stdout",
       "text": [
        " /home/efg/2015/Kaggle/Plankton/train/appendicularian_straight 242\n",
        "97"
       ]
      },
      {
       "output_type": "stream",
       "stream": "stdout",
       "text": [
        " /home/efg/2015/Kaggle/Plankton/train/appendicularian_s_shape 696\n",
        "98"
       ]
      },
      {
       "output_type": "stream",
       "stream": "stdout",
       "text": [
        " /home/efg/2015/Kaggle/Plankton/train/hydromedusae_aglaura 127\n",
        "99"
       ]
      },
      {
       "output_type": "stream",
       "stream": "stdout",
       "text": [
        " /home/efg/2015/Kaggle/Plankton/train/crustacean_other 201\n",
        "100"
       ]
      },
      {
       "output_type": "stream",
       "stream": "stdout",
       "text": [
        " /home/efg/2015/Kaggle/Plankton/train/trochophore_larvae 29\n",
        "101"
       ]
      },
      {
       "output_type": "stream",
       "stream": "stdout",
       "text": [
        " /home/efg/2015/Kaggle/Plankton/train/siphonophore_calycophoran_rocketship_young 483\n",
        "102"
       ]
      },
      {
       "output_type": "stream",
       "stream": "stdout",
       "text": [
        " /home/efg/2015/Kaggle/Plankton/train/hydromedusae_partial_dark 190\n",
        "103"
       ]
      },
      {
       "output_type": "stream",
       "stream": "stdout",
       "text": [
        " /home/efg/2015/Kaggle/Plankton/train/echinoderm_larva_seastar_bipinnaria 385\n",
        "104"
       ]
      },
      {
       "output_type": "stream",
       "stream": "stdout",
       "text": [
        " /home/efg/2015/Kaggle/Plankton/train/acantharia_protist_halo 71\n",
        "105"
       ]
      },
      {
       "output_type": "stream",
       "stream": "stdout",
       "text": [
        " /home/efg/2015/Kaggle/Plankton/train/acantharia_protist 889\n",
        "106"
       ]
      },
      {
       "output_type": "stream",
       "stream": "stdout",
       "text": [
        " /home/efg/2015/Kaggle/Plankton/train/copepod_calanoid_frillyAntennae 63\n",
        "107"
       ]
      },
      {
       "output_type": "stream",
       "stream": "stdout",
       "text": [
        " /home/efg/2015/Kaggle/Plankton/train/diatom_chain_string 519\n",
        "108"
       ]
      },
      {
       "output_type": "stream",
       "stream": "stdout",
       "text": [
        " /home/efg/2015/Kaggle/Plankton/train/hydromedusae_narcomedusae 132\n",
        "109"
       ]
      },
      {
       "output_type": "stream",
       "stream": "stdout",
       "text": [
        " /home/efg/2015/Kaggle/Plankton/train/ctenophore_cestid 113\n",
        "110"
       ]
      },
      {
       "output_type": "stream",
       "stream": "stdout",
       "text": [
        " /home/efg/2015/Kaggle/Plankton/train/trichodesmium_tuft 678\n",
        "111"
       ]
      },
      {
       "output_type": "stream",
       "stream": "stdout",
       "text": [
        " /home/efg/2015/Kaggle/Plankton/train/copepod_calanoid 681\n",
        "112"
       ]
      },
      {
       "output_type": "stream",
       "stream": "stdout",
       "text": [
        " /home/efg/2015/Kaggle/Plankton/train/hydromedusae_solmaris 703\n",
        "113"
       ]
      },
      {
       "output_type": "stream",
       "stream": "stdout",
       "text": [
        " /home/efg/2015/Kaggle/Plankton/train/euphausiids 136\n",
        "114"
       ]
      },
      {
       "output_type": "stream",
       "stream": "stdout",
       "text": [
        " /home/efg/2015/Kaggle/Plankton/train/fish_larvae_very_thin_body 16\n",
        "115"
       ]
      },
      {
       "output_type": "stream",
       "stream": "stdout",
       "text": [
        " /home/efg/2015/Kaggle/Plankton/train/fish_larvae_thin_body 64\n",
        "116"
       ]
      },
      {
       "output_type": "stream",
       "stream": "stdout",
       "text": [
        " /home/efg/2015/Kaggle/Plankton/train/tornaria_acorn_worm_larvae 38\n",
        "117"
       ]
      },
      {
       "output_type": "stream",
       "stream": "stdout",
       "text": [
        " /home/efg/2015/Kaggle/Plankton/train/copepod_calanoid_eggs 173\n",
        "118"
       ]
      },
      {
       "output_type": "stream",
       "stream": "stdout",
       "text": [
        " /home/efg/2015/Kaggle/Plankton/train/hydromedusae_sideview_big 76\n",
        "119"
       ]
      },
      {
       "output_type": "stream",
       "stream": "stdout",
       "text": [
        " /home/efg/2015/Kaggle/Plankton/train/appendicularian_fritillaridae 16\n",
        "120"
       ]
      },
      {
       "output_type": "stream",
       "stream": "stdout",
       "text": [
        " /home/efg/2015/Kaggle/Plankton/train/siphonophore_calycophoran_abylidae 212\n",
        "121"
       ]
      },
      {
       "output_type": "stream",
       "stream": "stdout",
       "text": [
        " /home/efg/2015/Kaggle/Plankton/train/fish_larvae_deep_body 10\n",
        "122"
       ]
      },
      {
       "output_type": "stream",
       "stream": "stdout",
       "text": [
        " /home/efg/2015/Kaggle/Plankton/train/jellies_tentacles 141\n",
        "123"
       ]
      },
      {
       "output_type": "stream",
       "stream": "stdout",
       "text": [
        " /home/efg/2015/Kaggle/Plankton/test 130400\n",
        "2500"
       ]
      },
      {
       "output_type": "stream",
       "stream": "stdout",
       "text": [
        " 158086.jpg\n",
        "5000"
       ]
      },
      {
       "output_type": "stream",
       "stream": "stdout",
       "text": [
        " 132335.jpg\n",
        "7500"
       ]
      },
      {
       "output_type": "stream",
       "stream": "stdout",
       "text": [
        " 159026.jpg\n",
        "10000"
       ]
      },
      {
       "output_type": "stream",
       "stream": "stdout",
       "text": [
        " 93161.jpg\n",
        "12500"
       ]
      },
      {
       "output_type": "stream",
       "stream": "stdout",
       "text": [
        " 136555.jpg\n",
        "15000"
       ]
      },
      {
       "output_type": "stream",
       "stream": "stdout",
       "text": [
        " 63147.jpg\n",
        "17500"
       ]
      },
      {
       "output_type": "stream",
       "stream": "stdout",
       "text": [
        " 91110.jpg\n",
        "20000"
       ]
      },
      {
       "output_type": "stream",
       "stream": "stdout",
       "text": [
        " 34373.jpg\n",
        "22500"
       ]
      },
      {
       "output_type": "stream",
       "stream": "stdout",
       "text": [
        " 89004.jpg\n",
        "25000"
       ]
      },
      {
       "output_type": "stream",
       "stream": "stdout",
       "text": [
        " 1780.jpg\n",
        "27500"
       ]
      },
      {
       "output_type": "stream",
       "stream": "stdout",
       "text": [
        " 122235.jpg\n",
        "30000"
       ]
      },
      {
       "output_type": "stream",
       "stream": "stdout",
       "text": [
        " 149123.jpg\n",
        "32500"
       ]
      },
      {
       "output_type": "stream",
       "stream": "stdout",
       "text": [
        " 60227.jpg\n",
        "35000"
       ]
      },
      {
       "output_type": "stream",
       "stream": "stdout",
       "text": [
        " 27417.jpg\n",
        "37500"
       ]
      },
      {
       "output_type": "stream",
       "stream": "stdout",
       "text": [
        " 125703.jpg\n",
        "40000"
       ]
      },
      {
       "output_type": "stream",
       "stream": "stdout",
       "text": [
        " 108674.jpg\n",
        "42500"
       ]
      },
      {
       "output_type": "stream",
       "stream": "stdout",
       "text": [
        " 140703.jpg\n",
        "45000"
       ]
      },
      {
       "output_type": "stream",
       "stream": "stdout",
       "text": [
        " 151135.jpg\n",
        "47500"
       ]
      },
      {
       "output_type": "stream",
       "stream": "stdout",
       "text": [
        " 139508.jpg\n",
        "50000"
       ]
      },
      {
       "output_type": "stream",
       "stream": "stdout",
       "text": [
        " 128485.jpg\n",
        "52500"
       ]
      },
      {
       "output_type": "stream",
       "stream": "stdout",
       "text": [
        " 55155.jpg\n",
        "55000"
       ]
      },
      {
       "output_type": "stream",
       "stream": "stdout",
       "text": [
        " 13274.jpg\n",
        "57500"
       ]
      },
      {
       "output_type": "stream",
       "stream": "stdout",
       "text": [
        " 34116.jpg\n",
        "60000"
       ]
      },
      {
       "output_type": "stream",
       "stream": "stdout",
       "text": [
        " 128514.jpg\n",
        "62500"
       ]
      },
      {
       "output_type": "stream",
       "stream": "stdout",
       "text": [
        " 136437.jpg\n",
        "65000"
       ]
      },
      {
       "output_type": "stream",
       "stream": "stdout",
       "text": [
        " 66989.jpg\n",
        "67500"
       ]
      },
      {
       "output_type": "stream",
       "stream": "stdout",
       "text": [
        " 47413.jpg\n",
        "70000"
       ]
      },
      {
       "output_type": "stream",
       "stream": "stdout",
       "text": [
        " 150790.jpg\n",
        "72500"
       ]
      },
      {
       "output_type": "stream",
       "stream": "stdout",
       "text": [
        " 105792.jpg\n",
        "75000"
       ]
      },
      {
       "output_type": "stream",
       "stream": "stdout",
       "text": [
        " 69515.jpg\n",
        "77500"
       ]
      },
      {
       "output_type": "stream",
       "stream": "stdout",
       "text": [
        " 63993.jpg\n",
        "80000"
       ]
      },
      {
       "output_type": "stream",
       "stream": "stdout",
       "text": [
        " 61366.jpg\n",
        "82500"
       ]
      },
      {
       "output_type": "stream",
       "stream": "stdout",
       "text": [
        " 82072.jpg\n",
        "85000"
       ]
      },
      {
       "output_type": "stream",
       "stream": "stdout",
       "text": [
        " 72013.jpg\n",
        "87500"
       ]
      },
      {
       "output_type": "stream",
       "stream": "stdout",
       "text": [
        " 34920.jpg\n",
        "90000"
       ]
      },
      {
       "output_type": "stream",
       "stream": "stdout",
       "text": [
        " 88508.jpg\n",
        "92500"
       ]
      },
      {
       "output_type": "stream",
       "stream": "stdout",
       "text": [
        " 92806.jpg\n",
        "95000"
       ]
      },
      {
       "output_type": "stream",
       "stream": "stdout",
       "text": [
        " 69394.jpg\n",
        "97500"
       ]
      },
      {
       "output_type": "stream",
       "stream": "stdout",
       "text": [
        " 143819.jpg\n",
        "100000"
       ]
      },
      {
       "output_type": "stream",
       "stream": "stdout",
       "text": [
        " 58018.jpg\n",
        "102500"
       ]
      },
      {
       "output_type": "stream",
       "stream": "stdout",
       "text": [
        " 144858.jpg\n",
        "105000"
       ]
      },
      {
       "output_type": "stream",
       "stream": "stdout",
       "text": [
        " 150355.jpg\n",
        "107500"
       ]
      },
      {
       "output_type": "stream",
       "stream": "stdout",
       "text": [
        " 61202.jpg\n",
        "110000"
       ]
      },
      {
       "output_type": "stream",
       "stream": "stdout",
       "text": [
        " 64491.jpg\n",
        "112500"
       ]
      },
      {
       "output_type": "stream",
       "stream": "stdout",
       "text": [
        " 129543.jpg\n",
        "115000"
       ]
      },
      {
       "output_type": "stream",
       "stream": "stdout",
       "text": [
        " 62005.jpg\n",
        "117500"
       ]
      },
      {
       "output_type": "stream",
       "stream": "stdout",
       "text": [
        " 24454.jpg\n",
        "120000"
       ]
      },
      {
       "output_type": "stream",
       "stream": "stdout",
       "text": [
        " 120641.jpg\n",
        "122500"
       ]
      },
      {
       "output_type": "stream",
       "stream": "stdout",
       "text": [
        " 36036.jpg\n",
        "125000"
       ]
      },
      {
       "output_type": "stream",
       "stream": "stdout",
       "text": [
        " 155778.jpg\n",
        "127500"
       ]
      },
      {
       "output_type": "stream",
       "stream": "stdout",
       "text": [
        " 115612.jpg\n",
        "130000"
       ]
      },
      {
       "output_type": "stream",
       "stream": "stdout",
       "text": [
        " 92894.jpg\n"
       ]
      }
     ],
     "prompt_number": 5
    },
    {
     "cell_type": "code",
     "collapsed": false,
     "input": [
      "time_stop = datetime.datetime.now()\n",
      "print time_stop\n",
      "print (time_stop - time_start), \"overall convert time\""
     ],
     "language": "python",
     "metadata": {},
     "outputs": [
      {
       "output_type": "stream",
       "stream": "stdout",
       "text": [
        "2015-02-05 14:33:54.136585\n",
        "0:58:58.813664 overall convert time\n"
       ]
      }
     ],
     "prompt_number": 6
    }
   ],
   "metadata": {}
  }
 ]
}